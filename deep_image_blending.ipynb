{
 "nbformat": 4,
 "nbformat_minor": 0,
 "metadata": {
  "colab": {
   "provenance": [],
   "gpuType": "T4",
   "authorship_tag": "ABX9TyOTO5d5a2beWLdJA++p1mLl"
  },
  "kernelspec": {
   "name": "python3",
   "display_name": "Python 3"
  },
  "language_info": {
   "name": "python"
  },
  "accelerator": "GPU"
 },
 "cells": [
  {
   "cell_type": "code",
   "execution_count": null,
   "metadata": {
    "colab": {
     "base_uri": "https://localhost:8080/"
    },
    "id": "Ru_rZIA8HzgV",
    "executionInfo": {
     "status": "ok",
     "timestamp": 1703795501153,
     "user_tz": -300,
     "elapsed": 18383,
     "user": {
      "displayName": "umer farooq",
      "userId": "12021587329000454460"
     }
    },
    "outputId": "74d19883-4db5-4119-b522-e9d419d966e8",
    "pycharm": {
     "name": "#%%\n",
     "is_executing": true
    }
   },
   "outputs": [],
   "source": [
    "!pip install poetry"
   ]
  },
  {
   "cell_type": "code",
   "source": [
    "!git clone https://github.com/owenzlz/DeepImageBlending"
   ],
   "metadata": {
    "colab": {
     "base_uri": "https://localhost:8080/"
    },
    "id": "PO82z_6JH9vu",
    "executionInfo": {
     "status": "ok",
     "timestamp": 1703795918044,
     "user_tz": -300,
     "elapsed": 5839,
     "user": {
      "displayName": "umer farooq",
      "userId": "12021587329000454460"
     }
    },
    "outputId": "6c6a4bb2-5448-41c0-908b-b54330af4eb2",
    "pycharm": {
     "name": "#%%\n",
     "is_executing": true
    }
   },
   "execution_count": null,
   "outputs": []
  },
  {
   "cell_type": "code",
   "source": [
    "%cd DeepImageBlending"
   ],
   "metadata": {
    "colab": {
     "base_uri": "https://localhost:8080/"
    },
    "id": "HD5US03wJnZO",
    "executionInfo": {
     "status": "ok",
     "timestamp": 1703795928007,
     "user_tz": -300,
     "elapsed": 2,
     "user": {
      "displayName": "umer farooq",
      "userId": "12021587329000454460"
     }
    },
    "outputId": "07c8799b-c3e3-4616-95e4-aaf436f11b48",
    "pycharm": {
     "name": "#%%\n",
     "is_executing": true
    }
   },
   "execution_count": null,
   "outputs": []
  },
  {
   "cell_type": "code",
   "source": [
    "!poetry install"
   ],
   "metadata": {
    "colab": {
     "base_uri": "https://localhost:8080/"
    },
    "id": "BjpWOyiHJqYo",
    "executionInfo": {
     "status": "ok",
     "timestamp": 1703796032762,
     "user_tz": -300,
     "elapsed": 96074,
     "user": {
      "displayName": "umer farooq",
      "userId": "12021587329000454460"
     }
    },
    "outputId": "ae024710-07cb-4eca-8064-041fbbe9d6b7",
    "pycharm": {
     "name": "#%%\n",
     "is_executing": true
    }
   },
   "execution_count": null,
   "outputs": []
  },
  {
   "cell_type": "code",
   "source": [
    "!poetry run python run.py"
   ],
   "metadata": {
    "colab": {
     "base_uri": "https://localhost:8080/"
    },
    "id": "ltw6F9GFQXa4",
    "executionInfo": {
     "status": "ok",
     "timestamp": 1703798248693,
     "user_tz": -300,
     "elapsed": 534714,
     "user": {
      "displayName": "umer farooq",
      "userId": "12021587329000454460"
     }
    },
    "outputId": "1733bee8-d189-4ff9-c38c-9faa6cd2720a",
    "pycharm": {
     "name": "#%%\n",
     "is_executing": true
    }
   },
   "execution_count": null,
   "outputs": []
  }
 ]
}